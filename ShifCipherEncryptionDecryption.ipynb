{
 "cells": [
  {
   "cell_type": "code",
   "execution_count": 18,
   "metadata": {},
   "outputs": [],
   "source": [
    "def encryption(text,key): \n",
    "    result = \"\" \n",
    "  \n",
    "    \n",
    "    for i in range(len(text)): \n",
    "        char = text[i]\n",
    "        \n",
    "        if(char.isupper()):\n",
    "            result += chr((ord(char) + key-65) % 26 + 65)  \n",
    "        elif (char.islower()):\n",
    "        \n",
    "          result += chr((ord(char) + key-97) % 26 + 97) \n",
    "        else:\n",
    "            result += char\n",
    "  \n",
    "       \n",
    "    return result \n",
    "  \n"
   ]
  },
  {
   "cell_type": "code",
   "execution_count": 19,
   "metadata": {},
   "outputs": [
    {
     "name": "stdout",
     "output_type": "stream",
     "text": [
      "Enter the text:Zlkdoxqrixqflk vlr plisba qeb pefcq zfmebo\n",
      "Text  : Zlkdoxqrixqflk vlr plisba qeb pefcq zfmebo\n",
      "Key : 4\n",
      "Cipher: Dpohsbuvmbujpo zpv tpmwfe uif tijgu djqifs\n"
     ]
    }
   ],
   "source": [
    "text = input(\"Enter the text:\")\n",
    "key_ = 4\n",
    "print (\"Text  : \" + text )\n",
    "print (\"Key : \" + str(key_) )\n",
    "encryptedtext = encryption(text,key_) \n",
    "print (\"Cipher: \" + encryptedtext )"
   ]
  },
  {
   "cell_type": "code",
   "execution_count": 14,
   "metadata": {},
   "outputs": [],
   "source": [
    "def decryption(encrypted_text,key):\n",
    "    plain_text = \"\"      \n",
    "    for char in encrypted_text:\n",
    "        \n",
    "    \n",
    "        if char.isupper():\n",
    "            \n",
    "            characii = ord(char)\n",
    "            plain = ord(char) - ord(\"A\")\n",
    "            decin = (plain - key) % 26\n",
    "            newcharascii = decin + ord(\"A\")\n",
    "            new_character = chr(newcharascii)\n",
    "            plain_text = plain_text + new_character\n",
    "        elif char.islower():\n",
    "            \n",
    "            characii = ord(char)\n",
    "            plain = ord(char) - ord(\"a\")\n",
    "            decin = (plain - key) % 26\n",
    "            newcharascii = decin + ord(\"a\")\n",
    "            new_character = chr(newcharascii)\n",
    "            plain_text = plain_text + new_character\n",
    "        else:\n",
    "            plain_text += char\n",
    "        \n",
    "    \n",
    "    print(\"Encrypted text\",encrypted_text) \n",
    "    print(\"Plain Text\",plain_text)\n",
    "      \n",
    "    "
   ]
  },
  {
   "cell_type": "code",
   "execution_count": 20,
   "metadata": {},
   "outputs": [
    {
     "name": "stdout",
     "output_type": "stream",
     "text": [
      "Encrypted text Dpohsbuvmbujpo zpv tpmwfe uif tijgu djqifs\n",
      "Plain Text Zlkdoxqrixqflk vlr plisba qeb pefcq zfmebo\n"
     ]
    }
   ],
   "source": [
    "decryption(encryptedtext,key_)"
   ]
  },
  {
   "cell_type": "code",
   "execution_count": null,
   "metadata": {},
   "outputs": [],
   "source": []
  }
 ],
 "metadata": {
  "kernelspec": {
   "display_name": "Python 3",
   "language": "python",
   "name": "python3"
  },
  "language_info": {
   "codemirror_mode": {
    "name": "ipython",
    "version": 3
   },
   "file_extension": ".py",
   "mimetype": "text/x-python",
   "name": "python",
   "nbconvert_exporter": "python",
   "pygments_lexer": "ipython3",
   "version": "3.7.6"
  }
 },
 "nbformat": 4,
 "nbformat_minor": 4
}
